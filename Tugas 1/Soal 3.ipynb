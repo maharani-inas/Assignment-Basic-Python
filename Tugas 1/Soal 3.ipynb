{
 "cells": [
  {
   "cell_type": "code",
   "execution_count": 3,
   "metadata": {},
   "outputs": [
    {
     "name": "stdout",
     "output_type": "stream",
     "text": [
      "Masukkan nama anda : lea\n",
      "Masukkan nim anda : 110\n",
      "Masukkan nilai teori anda : 70\n",
      "Masukan nilai praktik anda : 70.6\n",
      "Selamat lea, anda lulus!\n"
     ]
    }
   ],
   "source": [
    "nama=input(\"Masukkan nama anda : \")\n",
    "nim=input(\"Masukkan nim anda : \")\n",
    "kkm = 70\n",
    "teori = float(input(\"Masukkan nilai teori anda : \"))\n",
    "praktik = float(input(\"Masukan nilai praktik anda : \"))\n",
    "if teori and praktik >=kkm:\n",
    "    print(\"Selamat %s, anda lulus!\" %nama)\n",
    "elif teori >=kkm and praktik <=kkm:\n",
    "    print (\"Mohon maaf %s, anda harus mengulang ujian praktik anda\" %nama)\n",
    "elif teori<kkm and praktik >=kkm:\n",
    "    print(\"Mohon maaf %s, anda harus mengulang ujian teori anda\" %nama)\n",
    "else :\n",
    "    print(\"Mohon maaf %s, anda harus mengulang ujian teori dan praktik anda\" %nama)"
   ]
  },
  {
   "cell_type": "code",
   "execution_count": null,
   "metadata": {},
   "outputs": [],
   "source": []
  }
 ],
 "metadata": {
  "kernelspec": {
   "display_name": "Python 3",
   "language": "python",
   "name": "python3"
  },
  "language_info": {
   "codemirror_mode": {
    "name": "ipython",
    "version": 3
   },
   "file_extension": ".py",
   "mimetype": "text/x-python",
   "name": "python",
   "nbconvert_exporter": "python",
   "pygments_lexer": "ipython3",
   "version": "3.9.0"
  }
 },
 "nbformat": 4,
 "nbformat_minor": 4
}
