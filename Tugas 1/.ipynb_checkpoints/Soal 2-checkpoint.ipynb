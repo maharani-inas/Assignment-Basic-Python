{
 "cells": [
  {
   "cell_type": "code",
   "execution_count": 10,
   "metadata": {},
   "outputs": [
    {
     "name": "stdout",
     "output_type": "stream",
     "text": [
      "Jari-Jari Lingkaran (r) dalam cm : 4.82\n",
      "Luas Lingkaran dengan jari-jari 4 cm adalah 73.02 cm²\n"
     ]
    }
   ],
   "source": [
    "pi=22/7\n",
    "r=float(input(\"Jari-Jari Lingkaran (r) dalam cm : \"))\n",
    "A= pi*r**2\n",
    "print(\"Luas Lingkaran dengan jari-jari %d cm adalah %.2f cm\\u00b2\" %(r,A))"
   ]
  },
  {
   "cell_type": "code",
   "execution_count": null,
   "metadata": {},
   "outputs": [],
   "source": []
  }
 ],
 "metadata": {
  "kernelspec": {
   "display_name": "Python 3",
   "language": "python",
   "name": "python3"
  },
  "language_info": {
   "codemirror_mode": {
    "name": "ipython",
    "version": 3
   },
   "file_extension": ".py",
   "mimetype": "text/x-python",
   "name": "python",
   "nbconvert_exporter": "python",
   "pygments_lexer": "ipython3",
   "version": "3.9.0"
  }
 },
 "nbformat": 4,
 "nbformat_minor": 4
}
