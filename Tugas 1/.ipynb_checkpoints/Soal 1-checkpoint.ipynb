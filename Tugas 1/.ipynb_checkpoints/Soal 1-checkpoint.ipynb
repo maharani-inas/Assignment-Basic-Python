{
 "cells": [
  {
   "cell_type": "code",
   "execution_count": 8,
   "metadata": {},
   "outputs": [
    {
     "name": "stdout",
     "output_type": "stream",
     "text": [
      "Nama : Lea\n",
      "Umur : 17\n",
      "Tinggi : 168.9\n",
      "Nama Saya Lea, Umur Saya 17 dan Tinggi Saya 168.9 cm\n"
     ]
    }
   ],
   "source": [
    "nama = input(\"Nama : \")\n",
    "umur = int(input(\"Umur : \"))\n",
    "tinggi = float(input(\"Tinggi : \"))\n",
    "print(\"Nama Saya %s, Umur Saya %d dan Tinggi Saya %.1f cm\" %(nama, umur, tinggi))"
   ]
  },
  {
   "cell_type": "code",
   "execution_count": null,
   "metadata": {},
   "outputs": [],
   "source": []
  }
 ],
 "metadata": {
  "kernelspec": {
   "display_name": "Python 3",
   "language": "python",
   "name": "python3"
  },
  "language_info": {
   "codemirror_mode": {
    "name": "ipython",
    "version": 3
   },
   "file_extension": ".py",
   "mimetype": "text/x-python",
   "name": "python",
   "nbconvert_exporter": "python",
   "pygments_lexer": "ipython3",
   "version": "3.9.0"
  }
 },
 "nbformat": 4,
 "nbformat_minor": 4
}
